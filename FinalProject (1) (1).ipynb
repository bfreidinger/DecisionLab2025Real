{
  "nbformat": 4,
  "nbformat_minor": 0,
  "metadata": {
    "colab": {
      "provenance": []
    },
    "kernelspec": {
      "name": "python3",
      "display_name": "Python 3"
    },
    "language_info": {
      "name": "python"
    }
  },
  "cells": [
    {
      "cell_type": "markdown",
      "source": [
        "## Price Data Retrieval"
      ],
      "metadata": {
        "id": "7HRut0G10Jpz"
      }
    },
    {
      "cell_type": "code",
      "execution_count": null,
      "metadata": {
        "id": "46llzqZnp3UZ",
        "colab": {
          "base_uri": "https://localhost:8080/"
        },
        "outputId": "4ec2a311-3ca2-4469-e4fe-3fc78ea45c28"
      },
      "outputs": [
        {
          "output_type": "stream",
          "name": "stdout",
          "text": [
            "YF.download() has changed argument auto_adjust default to True\n"
          ]
        }
      ],
      "source": [
        "import yfinance as yf\n",
        "import pandas as pd\n",
        "import numpy as np\n",
        "import datetime\n",
        "from sklearn.decomposition import PCA\n",
        "\n",
        "# -----------------------\n",
        "# 1) Download price data\n",
        "# -----------------------\n",
        "tickers = [\n",
        "    \"AAPL\", \"MSFT\", \"AMZN\", \"NVDA\",\n",
        "    \"TSLA\", \"GOOG\", \"BRK-B\", \"META\", \"UNH\", \"SPY\"\n",
        "]\n",
        "\n",
        "end_date = datetime.datetime.today()\n",
        "start_date = end_date - datetime.timedelta(days=12*365)\n",
        "\n",
        "data = yf.download(tickers, start=start_date, end=end_date, progress=False)\n",
        "\n",
        "if 'Adj Close' in data.columns.get_level_values(0):\n",
        "    adj_close = data['Adj Close'].copy()\n",
        "else:\n",
        "    adj_close = data['Close'].copy()\n",
        "\n",
        "if 'BRK-B' not in adj_close.columns and 'BRK.B' in adj_close.columns:\n",
        "    adj_close.rename(columns={'BRK.B': 'BRK-B'}, inplace=True)\n",
        "\n",
        "adj_close.dropna(how='all', inplace=True)\n",
        "\n",
        "# -----------------------\n",
        "# 2) Compute daily returns\n",
        "# -----------------------\n",
        "daily_returns = np.log(adj_close).diff().dropna()\n",
        "eq_tickers = [t for t in tickers if t != \"SPY\"]\n",
        "returns_for_pca = daily_returns[eq_tickers].copy()\n",
        "\n",
        "# -----------------------\n",
        "# 3) PCA on daily returns\n",
        "# -----------------------\n",
        "pca_model = PCA(n_components=2)\n",
        "pca_factors = pca_model.fit_transform(returns_for_pca.fillna(0))\n",
        "loadings = pca_model.components_\n",
        "\n",
        "factors_df = pd.DataFrame(\n",
        "    pca_factors,\n",
        "    index=returns_for_pca.index,\n",
        "    columns=[f\"Factor{i+1}\" for i in range(2)]\n",
        ")\n",
        "\n",
        "recon_returns = pca_factors @ loadings\n",
        "recon_df = pd.DataFrame(recon_returns, index=returns_for_pca.index, columns=eq_tickers)\n",
        "idio_returns = returns_for_pca - recon_df\n",
        "\n",
        "# -------------------------------\n",
        "# 4) Convert everything to weekly returns\n",
        "# -------------------------------\n",
        "weekly_returns = daily_returns.resample(\"W-MON\").sum()\n",
        "weekly_idio_returns = idio_returns.resample(\"W-MON\").sum()\n",
        "weekly_factors_df = factors_df.resample(\"W-MON\").sum()\n",
        "\n",
        "# -------------------------------\n",
        "# 5) Create weekly signal targets\n",
        "# -------------------------------\n",
        "future_weekly = weekly_idio_returns.shift(-1)\n",
        "future_weekly_factor2 = weekly_factors_df[\"Factor2\"].shift(-1)\n",
        "\n",
        "# -------------------------------\n",
        "# 6) Create weekly predictive signals\n",
        "# -------------------------------\n",
        "def make_correlated_signal(target, desired_corr=0.2, seed=42):\n",
        "    np.random.seed(seed)\n",
        "    rnd_noise = np.random.randn(len(target))\n",
        "    t_std = (target - target.mean()) / (target.std() + 1e-8)\n",
        "    r_std = (rnd_noise - rnd_noise.mean()) / (rnd_noise.std() + 1e-8)\n",
        "    alpha = desired_corr\n",
        "    beta = np.sqrt(1 - alpha**2)\n",
        "    signal = alpha * t_std + beta * r_std\n",
        "    signal = signal * target.std() + target.mean()\n",
        "    return pd.Series(signal, index=target.index)\n",
        "\n",
        "weekly_stock_signals = {}\n",
        "for stock in eq_tickers:\n",
        "    target = future_weekly[stock].dropna()\n",
        "    sig = make_correlated_signal(target, desired_corr=0.1, seed=42)\n",
        "    weekly_stock_signals[stock] = sig.reindex(future_weekly.index)\n",
        "\n",
        "weekly_stock_signals_df = pd.DataFrame(weekly_stock_signals)\n",
        "\n",
        "factor2_signal = make_correlated_signal(\n",
        "    future_weekly_factor2.dropna(), desired_corr=0.3, seed=42\n",
        ").reindex(future_weekly_factor2.index)\n",
        "\n",
        "weekly_factor_signals_df = pd.DataFrame({\n",
        "    \"Factor2_signal\": factor2_signal\n",
        "})\n",
        "\n",
        "# -------------------------------------\n",
        "# 7) Combine weekly data and apply noise mask\n",
        "# -------------------------------------\n",
        "combined_data = pd.concat([\n",
        "    weekly_returns,\n",
        "    # weekly_idio_returns.add_prefix(\"IDIO_\"),\n",
        "    # weekly_factors_df.add_prefix(\"FCT_\"),\n",
        "], axis=1)\n",
        "\n",
        "combined_data_missing = combined_data.copy()\n",
        "can_have_nan_cols = [col for col in combined_data.columns if \"SPY\" not in col]\n",
        "\n",
        "np.random.seed(999)\n",
        "mask_size = int(0.01 * combined_data_missing[can_have_nan_cols].size)\n",
        "row_indices = np.random.choice(combined_data_missing.index, mask_size)\n",
        "col_indices = np.random.choice(can_have_nan_cols, mask_size)\n",
        "combined_data_missing.values[\n",
        "    tuple(zip(*[\n",
        "        (combined_data_missing.index.get_loc(r), combined_data_missing.columns.get_loc(c))\n",
        "        for r, c in zip(row_indices, col_indices)\n",
        "    ]))\n",
        "] = np.nan\n"
      ]
    },
    {
      "cell_type": "code",
      "source": [
        "X = combined_data[eq_tickers].to_numpy().T\n",
        "\n",
        "B = loadings.T\n",
        "\n",
        "N, T = X.shape\n",
        "\n",
        "index_train = range(int(0.75 * T))\n",
        "index_test = range(int(0.75 * T), T)\n",
        "\n",
        "X_train = X[:, index_train]\n",
        "X_test = X[:, index_test]\n",
        "\n",
        "T_train, T_test = X_train.shape[1], X_test.shape[1]\n",
        "\n",
        "timestamps = combined_data.index\n",
        "timestamps_train = timestamps[index_train]\n",
        "timestamps_test = timestamps[index_test]\n",
        "\n",
        "signals = weekly_stock_signals_df.to_numpy().T\n",
        "signals[:, signals.shape[1] - 1] = 0\n",
        "signals_train = signals[:, index_train]\n",
        "signals_test = signals[:, index_test]\n",
        "\n",
        "factor_signal = weekly_factor_signals_df.to_numpy().T\n",
        "factor_signal[:, factor_signal.shape[1] - 1] = 0\n",
        "factor_signal_train = factor_signal[:, index_train]\n",
        "factor_signal_test = factor_signal[:, index_test]\n",
        "\n",
        "X_idio = weekly_idio_returns[eq_tickers].to_numpy().T\n",
        "X_idio_train = X_idio[:, index_train]\n",
        "X_idio_test = X_idio[:, index_test]"
      ],
      "metadata": {
        "id": "Yt6iIJyxqYWa"
      },
      "execution_count": null,
      "outputs": []
    },
    {
      "cell_type": "markdown",
      "source": [
        "## Rolling Correlations And Volatilities"
      ],
      "metadata": {
        "id": "-4epal57ygfT"
      }
    },
    {
      "cell_type": "markdown",
      "source": [
        "Given NxT matrix X, give a NxT matrix which is the rolling std of each asset over the past 20 days. Such that column i is made using data from [i-20, i-1].\n",
        "\n",
        "1.   Should we de-mean? Yes\n",
        "2.   What shape should rolling_std_matrix be? NxT, with first 20 columns = np.nan"
      ],
      "metadata": {
        "id": "q7m64rKVqy7D"
      }
    },
    {
      "cell_type": "code",
      "source": [
        "std_window = 20\n",
        "rolling_std_matrix = np.full((N, T), np.nan)\n"
      ],
      "metadata": {
        "id": "0vHV8Mlvqovk"
      },
      "execution_count": null,
      "outputs": []
    },
    {
      "cell_type": "markdown",
      "source": [
        "Find a TxNxN matrix from matrix X which is the rolling correlations over the past 50 days. Such that index i is made using data from [i-50, i-1].\n",
        "\n",
        "1.   Should we use de-meaned returns? Yes\n",
        "2.   What shape should rolling_corr_matrix be? TxNxN"
      ],
      "metadata": {
        "id": "0hxmjqCSrku8"
      }
    },
    {
      "cell_type": "code",
      "source": [
        "corr_window = 50\n",
        "rolling_corr_matrix = np.full((T, N, N), np.nan)\n"
      ],
      "metadata": {
        "id": "J1-JuCvGq3TR"
      },
      "execution_count": null,
      "outputs": []
    },
    {
      "cell_type": "markdown",
      "source": [
        "## Generating mu_{t+1} on training data, and predicting on test data"
      ],
      "metadata": {
        "id": "uQwjdQuMzLTF"
      }
    },
    {
      "cell_type": "markdown",
      "source": [
        "Explanation of Signals Matrix\n",
        "1.   signals is a NxT np.ndarray where signals[i, j] predicts the return of stock i over [j, j+1]. It is meant to predict X_idio[i, j+1]. Why then would we run regressions on X_idio[i, j+1] = A_i + B_i * signals[i, j]?"
      ],
      "metadata": {
        "id": "vgbIlhrps4Ua"
      }
    },
    {
      "cell_type": "markdown",
      "source": [
        "Run Linear Regressions On X_idio_train For Each Stock to Find A_i and B_i for i = 1, ... , N\n",
        "\n",
        "1.   Generate intercepts, betas, each of length N"
      ],
      "metadata": {
        "id": "EG-R4aCIsz7i"
      }
    },
    {
      "cell_type": "code",
      "source": [
        "import statsmodels.api as sm\n",
        "\n",
        "intercepts = np.zeros(N)\n",
        "betas = np.zeros(N)\n"
      ],
      "metadata": {
        "id": "a1vISwppsSWT"
      },
      "execution_count": null,
      "outputs": []
    },
    {
      "cell_type": "markdown",
      "source": [
        "Generate mu_test, which will be our means vector, , which is the forecast of r_{t+1}\n",
        "\n",
        "1.   What shape is mu_test? NxT_test"
      ],
      "metadata": {
        "id": "F_ldqf_Mtt_L"
      }
    },
    {
      "cell_type": "code",
      "source": [
        "mu_test = np.zeros((N, T_test))\n",
        "\n",
        "mu_test[:, 1:] =  # Includes signal\n",
        "mu_test[:, 0] = # Does not have signal, what does this mean?"
      ],
      "metadata": {
        "id": "5eEIN_V7vA4j"
      },
      "execution_count": null,
      "outputs": []
    },
    {
      "cell_type": "markdown",
      "source": [
        "### Repeating This on Factor Returns"
      ],
      "metadata": {
        "id": "MsemnDGGRYtt"
      }
    },
    {
      "cell_type": "code",
      "source": [
        "# CODE HERE"
      ],
      "metadata": {
        "id": "mfz28y11Rd9c"
      },
      "execution_count": null,
      "outputs": []
    },
    {
      "cell_type": "markdown",
      "source": [
        "## Basic Max-Sharpe Portfolio Optimization"
      ],
      "metadata": {
        "id": "zBhZQs-uzUIC"
      }
    },
    {
      "cell_type": "markdown",
      "source": [
        "Okay, for now we are not going to use MOSEK. Suppose that to have an optimal Sharpe portfolio, we use the formula below. (Don't Run This Block)\n"
      ],
      "metadata": {
        "id": "wrEZdDFPvCxy"
      }
    },
    {
      "cell_type": "code",
      "source": [
        "# Sigma = np.diag(stds) @ corr @ np.diag(stds)\n",
        "# weights = (np.linalg.inv(Sigma).dot(mu)) / np.ones(N).dot(np.linalg.inv(Sigma).dot(mu))"
      ],
      "metadata": {
        "id": "ej9Tm8p3vqgL"
      },
      "execution_count": null,
      "outputs": []
    },
    {
      "cell_type": "markdown",
      "source": [
        "Now, generate a N x T_train OOS matrix of standard deviations. Remember we had a N x T matrix. How do we subset it?"
      ],
      "metadata": {
        "id": "Alh1smWczcdC"
      }
    },
    {
      "cell_type": "code",
      "source": [
        "stds_matrix_oos ="
      ],
      "metadata": {
        "id": "k5XllKa33n1a"
      },
      "execution_count": null,
      "outputs": []
    },
    {
      "cell_type": "markdown",
      "source": [
        "Now, generate a T_train x N x N OOS matrix of correlations. Remember we had a T x N x N matrix. How do we subset it?"
      ],
      "metadata": {
        "id": "qQe_MwTZ3uxx"
      }
    },
    {
      "cell_type": "code",
      "source": [
        "corr_matrix_oos ="
      ],
      "metadata": {
        "id": "Uau9dtoI32VJ"
      },
      "execution_count": null,
      "outputs": []
    },
    {
      "cell_type": "markdown",
      "source": [
        "Examine standard deviations, correlation, means vector, and the weights. Why do we have the sum of weights = 1? Also, why do the weights appear this way?"
      ],
      "metadata": {
        "id": "bDEcfWEuwRL6"
      }
    },
    {
      "cell_type": "code",
      "source": [
        "import seaborn as sns\n",
        "import matplotlib.pyplot as plt\n",
        "\n",
        "corr_now = corr_matrix_oos[0]\n",
        "stds_now = stds_matrix_oos[:, 0]\n",
        "mu_now = mu_test[:, 0]\n",
        "# IF YOU ADDED THE FACTOR SIGNAL, CORRECT THE MU_NOW HERE\n",
        "mu_now = .....\n",
        "\n",
        "\n",
        "Sigma_now =\n",
        "weights_now =\n",
        "\n",
        "corr_df = pd.DataFrame(corr_now)\n",
        "corr_df.columns = eq_tickers\n",
        "corr_df.index = eq_tickers\n",
        "\n",
        "corr_df_rounded = corr_df.round(2)\n",
        "\n",
        "stds_df = pd.DataFrame(np.round(stds_now, 4))\n",
        "stds_df.index = eq_tickers\n",
        "\n",
        "mu_df = pd.DataFrame(np.round(mu_now, 4))\n",
        "mu_df.index = eq_tickers\n",
        "\n",
        "weights_df = pd.DataFrame(np.round(weights_now, 4))\n",
        "weights_df.index = eq_tickers\n",
        "\n",
        "print(\"Correlation Matrix\")\n",
        "sns.heatmap(corr_df_rounded, annot=True, cmap=\"coolwarm\", fmt=\".2f\")\n",
        "plt.show()\n",
        "\n",
        "print(\"Expected Returns\")\n",
        "display(mu_df)\n",
        "print(\"Daily Standard Deviations\")\n",
        "display(stds_df)\n",
        "print(\"Portfolio Weights\")\n",
        "display(weights_df)"
      ],
      "metadata": {
        "id": "vm8kK4Lbwqq0"
      },
      "execution_count": null,
      "outputs": []
    },
    {
      "cell_type": "markdown",
      "source": [
        "## MOSEK Portfolio Optimization"
      ],
      "metadata": {
        "id": "YE9vkZSez1f6"
      }
    },
    {
      "cell_type": "code",
      "source": [
        "%%capture\n",
        "!pip install mosek"
      ],
      "metadata": {
        "id": "1hpx0jP2ks9G"
      },
      "execution_count": null,
      "outputs": []
    },
    {
      "cell_type": "code",
      "source": [
        "from google.colab import drive\n",
        "drive.mount('/content/drive', force_remount=True)\n",
        "\n",
        "import os\n",
        "os.environ['MOSEKLM_LICENSE_FILE'] = '/content/drive/MyDrive/mosek/mosek.lic'\n",
        "# MAKE SURE MOSEK.LIC file is inside a mosek folder in your google drive\n",
        "\n",
        "import mosek\n",
        "from mosek.fusion import *"
      ],
      "metadata": {
        "id": "bb2psip5kaFn",
        "colab": {
          "base_uri": "https://localhost:8080/"
        },
        "outputId": "eadcff05-1891-4228-8625-929063023f2b"
      },
      "execution_count": null,
      "outputs": [
        {
          "output_type": "stream",
          "name": "stdout",
          "text": [
            "Mounted at /content/drive\n"
          ]
        }
      ]
    },
    {
      "cell_type": "markdown",
      "source": [
        "### Basic Mean-Variance"
      ],
      "metadata": {
        "id": "bAAhor6L5upJ"
      }
    },
    {
      "cell_type": "code",
      "source": [
        "import numpy as np\n",
        "import pandas as pd\n",
        "from mosek.fusion import Model, Expr, Domain, ObjectiveSense, Matrix\n",
        "\n",
        "portfolio_weights_df = pd.DataFrame(columns = eq_tickers + ['timestamp'])\n",
        "\n",
        "for i in range(T_test - 1):\n",
        "\n",
        "    corr_now = corr_matrix_oos[i]\n",
        "    stds_now = stds_matrix_oos[:, i]\n",
        "    mu_now = mu_test[:, i + 1]\n",
        "\n",
        "    # IF YOU ADDED THE FACTOR SIGNAL, CORRECT THE MU_NOW HERE\n",
        "    # mu_now = .....\n",
        "\n",
        "    Sigma_now = np.diag(stds_now) @ corr_now @ np.diag(stds_now)\n",
        "\n",
        "    S = Sigma_now\n",
        "    m = mu_now\n",
        "\n",
        "    N = m.shape[0]\n",
        "\n",
        "    # Weekly Vol Constraint at 0.1\n",
        "    gamma2 = 0.1 ** 2\n",
        "\n",
        "    # Compute the Cholesky factor of S\n",
        "    G = np.linalg.cholesky(S)\n",
        "    G_mat = Matrix.dense(G)  # shape NxN\n",
        "\n",
        "    # --------------------------------------------------\n",
        "    # Basic MarkowitzReturn Model\n",
        "    # --------------------------------------------------\n",
        "    with Model(\"MarkowitzReturn_Basic\") as M:\n",
        "        # 1) Variables: fraction of holdings in each security (no short-selling)\n",
        "        # x = M.variable(\"x\", N, Domain.greaterThan(0.0))\n",
        "        x = M.variable(\"x\", N)\n",
        "\n",
        "        # 2) Budget constraint: sum(x) == 1\n",
        "        M.constraint(\"budget\", Expr.sum(x), Domain.equalsTo(1.0))\n",
        "\n",
        "        # 3) Objective: maximize expected return\n",
        "        M.objective(\"obj\", ObjectiveSense.Maximize, Expr.dot(x, m))\n",
        "\n",
        "        # 4) Risk constraint using rotated QCone:\n",
        "        #    vstack( gamma2, 0.5, G^T x ) in RQCone\n",
        "        G_matT = Matrix.dense(G.T)  # NxN\n",
        "        M.constraint(\n",
        "            \"risk\",\n",
        "            Expr.vstack(gamma2, 0.5, Expr.mul(G_matT, x)),\n",
        "            Domain.inRotatedQCone()\n",
        "        )\n",
        "\n",
        "        # Solve\n",
        "        M.solve()\n",
        "        returns = M.primalObjValue()\n",
        "        portfolio = x.level()\n",
        "\n",
        "    portfolio = portfolio / sum(abs(portfolio))\n",
        "    portfolio_weights_df.loc[i] = list(portfolio) + [timestamps_test[i]]\n"
      ],
      "metadata": {
        "id": "0iyj1F-Qj8jg"
      },
      "execution_count": null,
      "outputs": []
    },
    {
      "cell_type": "markdown",
      "source": [
        "### Constrained Mean-Variance\n",
        "\n",
        "\n",
        "In the code, we see the lines\n",
        "        if USE_MARKET_NEUTRAL:\n",
        "            # factor^T x = 0\n",
        "            M.constraint(\"market_neutral\",\n",
        "                         Expr.dot(factor, x),\n",
        "                         Domain.equalsTo(0.0))\n",
        "\n",
        "* Play around with this. If you change the level of market exposure, and include the market signal.  What does it do for the future returns?\n",
        "\n",
        "* Can you plot future returns against the factor returns, and show your market factor portfolio weights across time?"
      ],
      "metadata": {
        "id": "thi1nWle56oO"
      }
    },
    {
      "cell_type": "code",
      "source": [
        "import numpy as np\n",
        "import pandas as pd\n",
        "from mosek.fusion import Model, Expr, Domain, ObjectiveSense, Matrix\n",
        "\n",
        "constrained_portfolio_weights_df = pd.DataFrame(columns = eq_tickers + ['timestamp'])\n",
        "factor = loadings[0, :]\n",
        "# User-defined toggles\n",
        "USE_MARKET_NEUTRAL = True\n",
        "USE_TRANSACTION_COSTS = True\n",
        "USE_LEVERAGE = True\n",
        "\n",
        "turnover_limit = 1e9\n",
        "cost_rate = 0.0002\n",
        "leverage_limit = 2.0\n",
        "gamma2 = 0.1 ** 2\n",
        "\n",
        "x0 = np.array(portfolio_weights_df.loc[0, eq_tickers].values, dtype=float)\n",
        "\n",
        "for i in range(T_test - 1):\n",
        "\n",
        "    corr_now = corr_matrix_oos[i]\n",
        "    stds_now = stds_matrix_oos[:, i]\n",
        "    mu_now = mu_test[:, i + 1]\n",
        "\n",
        "    # IF YOU ADDED THE FACTOR SIGNAL, CORRECT THE MU_NOW HERE\n",
        "    # mu_now = .....\n",
        "\n",
        "    Sigma_now = np.diag(stds_now) @ corr_now @ np.diag(stds_now)\n",
        "\n",
        "    S = Sigma_now\n",
        "    m = mu_now\n",
        "    N = m.shape[0]\n",
        "\n",
        "    # Cholesky factor of S for the risk constraint\n",
        "    G = np.linalg.cholesky(S)\n",
        "    G_mat = Matrix.dense(G)\n",
        "\n",
        "    # --------------------------------------------------\n",
        "    # Extended MarkowitzReturn Model\n",
        "    # --------------------------------------------------\n",
        "    with Model(\"MarkowitzReturn_Extended\") as M:\n",
        "\n",
        "        # 1) Decision variables\n",
        "        # x can be unbounded if we allow shorting\n",
        "        x = M.variable(\"x\", N, Domain.unbounded())\n",
        "\n",
        "        # (a) For turnover, define d+ and d- to measure trades vs x0\n",
        "        d_plus  = M.variable(\"d_plus\",  N, Domain.greaterThan(0.0))\n",
        "        d_minus = M.variable(\"d_minus\", N, Domain.greaterThan(0.0))\n",
        "\n",
        "        # (b) For leverage, define z to measure absolute value of x\n",
        "        z = M.variable(\"z\", N, Domain.greaterThan(0.0))\n",
        "\n",
        "        # 2) Constraints\n",
        "\n",
        "        # 2a) Market Neutral (optional)\n",
        "        if USE_MARKET_NEUTRAL:\n",
        "            # factor^T x = 0\n",
        "            M.constraint(\"market_neutral\",\n",
        "                         Expr.dot(factor, x),\n",
        "                         Domain.equalsTo(0.0))\n",
        "\n",
        "\n",
        "        # 2c) Leverage (optional)\n",
        "        # sum(|x|) <= leverage_limit\n",
        "        if USE_LEVERAGE:\n",
        "            # z_i >= x_i and z_i >= -x_i\n",
        "            M.constraint(\"z_gte_posX\", Expr.sub(x, z), Domain.lessThan(0.0))\n",
        "            M.constraint(\"z_gte_negX\", Expr.add(x, z), Domain.greaterThan(0.0))\n",
        "            # sum(z_i) <= c\n",
        "            M.constraint(\"leverage\", Expr.sum(z), Domain.lessThan(leverage_limit))\n",
        "\n",
        "        # 2e) Risk constraint: x^T S x <= gamma2\n",
        "        # Rotated QCone form: vstack(gamma2, 0.5, G^T x) in RQCone\n",
        "        G_matT = Matrix.dense(G.T)\n",
        "        M.constraint(\n",
        "            \"risk\",\n",
        "            Expr.vstack(gamma2, 0.5, Expr.mul(G_matT, x)),\n",
        "            Domain.inRotatedQCone()\n",
        "        )\n",
        "\n",
        "        # Turnover limit\n",
        "        M.constraint(\"turnover_link\", Expr.sub(Expr.sub(x, x0), Expr.sub(d_plus, d_minus)), Domain.equalsTo(0.0))\n",
        "        M.constraint(\"turnover_limit\", Expr.sum(Expr.add(d_plus, d_minus)), Domain.lessThan(turnover_limit))\n",
        "\n",
        "        # 3) Objective\n",
        "        # Gross return: dot(m, x)\n",
        "        # Transaction cost (optional): cost_rate * sum(d+ + d-)\n",
        "        if USE_TRANSACTION_COSTS:\n",
        "            tc_expr = Expr.mul(cost_rate,\n",
        "                               Expr.add(Expr.sum(d_plus), Expr.sum(d_minus)))\n",
        "            net_return = Expr.sub(Expr.dot(m, x), tc_expr)\n",
        "        else:\n",
        "            net_return = Expr.dot(m, x)\n",
        "\n",
        "        M.objective(\"obj\", ObjectiveSense.Maximize, net_return)\n",
        "\n",
        "        # 4) Solve\n",
        "\n",
        "        try:\n",
        "            M.solve()\n",
        "            returns = M.primalObjValue()\n",
        "            portfolio = x.level()\n",
        "            x0 = portfolio\n",
        "        except:\n",
        "            portfolio = x0\n",
        "\n",
        "\n",
        "    constrained_portfolio_weights_df.loc[i] = list(portfolio) + [timestamps_test[i]]\n"
      ],
      "metadata": {
        "id": "q8v8UhHPt3VI"
      },
      "execution_count": null,
      "outputs": []
    },
    {
      "cell_type": "markdown",
      "source": [
        "### Examining Portfolio Weights Over Time (Two MOSEK Models)"
      ],
      "metadata": {
        "id": "HWOeZ9Rz69j2"
      }
    },
    {
      "cell_type": "code",
      "source": [
        "import matplotlib.pyplot as plt\n",
        "\n",
        "# Plot the portfolio weights over time\n",
        "plt.figure(figsize=(10, 6))\n",
        "\n",
        "# Plot Portfolio Weights Here\n",
        "\n",
        "plt.xlabel('Time')\n",
        "plt.ylabel('Portfolio Weight')\n",
        "plt.title('Portfolio Weights Over Time')\n",
        "plt.legend(title=\"Assets\")\n",
        "plt.grid(True)\n",
        "plt.show()\n"
      ],
      "metadata": {
        "id": "k0RRaXqeptTf"
      },
      "execution_count": null,
      "outputs": []
    },
    {
      "cell_type": "code",
      "source": [
        "import matplotlib.pyplot as plt\n",
        "\n",
        "# Plot the portfolio weights over time\n",
        "plt.figure(figsize=(10, 6))\n",
        "\n",
        "# Plot Constrained Portfolio Weights Here\n",
        "\n",
        "plt.xlabel('Time')\n",
        "plt.ylabel('Portfolio Weight')\n",
        "plt.title('Constrained Portfolio Weights Over Time')\n",
        "plt.legend(title=\"Assets\")\n",
        "plt.grid(True)\n",
        "plt.show()\n"
      ],
      "metadata": {
        "id": "URND4F_p7Cam"
      },
      "execution_count": null,
      "outputs": []
    },
    {
      "cell_type": "markdown",
      "source": [
        "### Plot Portfolio Returns Over Time for Both Portfolios"
      ],
      "metadata": {
        "id": "3jEUvOjE_P27"
      }
    },
    {
      "cell_type": "markdown",
      "source": [
        "1.   Portfolio Weights (T_oos - 1) x N\n",
        "2.   Portfolio Return (T_oos - 1) x 1\n",
        "3.   Shifted returns from t=1 to t=T_oos-1 (T_oos - 1) x 1\n",
        "* Why shifted?"
      ],
      "metadata": {
        "id": "Zmnb_44PfGwv"
      }
    },
    {
      "cell_type": "code",
      "source": [
        "# CODE HERE\n",
        "\n",
        "\n",
        "\n",
        "# Now you can store portfolio_returns and portfolio_timestamps, and plot them\n",
        "portfolio_returns_df = pd.DataFrame({\n",
        "    'timestamp': portfolio_timestamps,\n",
        "    'portfolio_return': portfolio_returns,\n",
        "    'constrained_portfolio_return': constrained_portfolio_returns\n",
        "})\n",
        "\n",
        "# Plot the portfolio returns over time\n",
        "plt.figure(figsize=(10, 6))\n",
        "plt.plot(portfolio_returns_df['timestamp'], portfolio_returns_df['portfolio_return'].cumsum(), label='Portfolio Return')\n",
        "plt.plot(portfolio_returns_df['timestamp'], portfolio_returns_df['constrained_portfolio_return'].cumsum(), label='Constrained Portfolio Return')\n",
        "plt.xlabel('Time')\n",
        "plt.ylabel('Return')\n",
        "plt.title('Returns Over Time')\n",
        "plt.grid(True)\n",
        "plt.legend()\n",
        "plt.show()\n"
      ],
      "metadata": {
        "id": "z2H6AL36q2Nh"
      },
      "execution_count": null,
      "outputs": []
    },
    {
      "cell_type": "markdown",
      "source": [
        "Generating Market Exposure From Weights\n",
        "\n",
        "1.  Dot(weights, factor) -> Dot(TxN, Nx1) -> Nx1"
      ],
      "metadata": {
        "id": "tqdRoiRzzy36"
      }
    },
    {
      "cell_type": "code",
      "source": [
        "second_factor = loadings[1, :]\n",
        "\n",
        "\n",
        "market_exposure_df = pd.DataFrame({\n",
        "    'portfolio_market_exposure': ....,\n",
        "    'constrained_portfolio_market_exposure': ....,\n",
        "      'portfolio_second_factor_exposure': ....,\n",
        "    'constrained_portfolio_second_factor_exposure': ....,\n",
        "}, index = portfolio_timestamps)"
      ],
      "metadata": {
        "id": "6Smch50bRSUu"
      },
      "execution_count": null,
      "outputs": []
    },
    {
      "cell_type": "markdown",
      "source": [
        "Plotting Market Exposure Over Time"
      ],
      "metadata": {
        "id": "WU-pCCubyMfS"
      }
    },
    {
      "cell_type": "code",
      "source": [
        "plt.plot(market_exposure_df['portfolio_market_exposure'], label = 'Mean-Variance Portfolio')\n",
        "plt.plot(market_exposure_df['constrained_portfolio_market_exposure'], label = 'Constrained Mean-Variance Portfolio')\n",
        "plt.title(\"Market Exposure Over Time\")\n",
        "plt.xlabel(\"Week\")\n",
        "plt.ylabel(\"Exposure\")\n",
        "plt.grid(True)\n",
        "plt.legend()\n",
        "plt.show()\n",
        "\n",
        "\n",
        "plt.plot(market_exposure_df['portfolio_second_factor_exposure'], label = 'Mean-Variance Portfolio')\n",
        "plt.plot(market_exposure_df['constrained_portfolio_second_factor_exposure'], label = 'Constrained Mean-Variance Portfolio')\n",
        "plt.title(\"Factor 2 Exposure Over Time\")\n",
        "plt.xlabel(\"Week\")\n",
        "plt.ylabel(\"Exposure\")\n",
        "plt.grid(True)\n",
        "plt.legend()\n",
        "plt.show()\n"
      ],
      "metadata": {
        "id": "0uBdfX4TyPSi"
      },
      "execution_count": null,
      "outputs": []
    },
    {
      "cell_type": "markdown",
      "source": [
        "## Additional Questions\n",
        "\n",
        "* Change the level of market exposure, and include / don't include the market signal.  What does it do for returns?\n",
        "\n",
        "* Can you plot portfolio returns against the factor returns, and show your market factor weight across time?\n",
        "\n",
        "* Do you get short the market when it goes down? Plot market factor weight vs. market factor return? Should be some > 0 correlation.\n",
        "\n",
        "* What does the second factor seem to mean? Play around with the code in the first block, and make a negatively correlated signal if you want.\n",
        "\n",
        "* Alter the constraints. Use ChatGPT, and make plots."
      ],
      "metadata": {
        "id": "V-OHfBj0QizG"
      }
    }
  ]
}